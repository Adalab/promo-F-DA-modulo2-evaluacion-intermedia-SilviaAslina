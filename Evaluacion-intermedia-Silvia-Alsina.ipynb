{
 "cells": [
  {
   "cell_type": "markdown",
   "metadata": {},
   "source": [
    "# Parte 1: Web Scraping con BeautifulSoup\n",
    "\n",
    "Utilizando la biblioteca BeautifulSoup en Python, extrae información de la siguiente. Debes extraer la siguiente información:\n",
    "\n",
    "- El nombre de las rutas que aparecen en la página web.\n",
    "- Donde esta ubicada la ruta.\n",
    "- El tipo de ruta. Si esta información añadir \"Desconocido\".\n",
    "- Duración de la ruta.\n",
    "- Los kilometros de la ruta.\n",
    "- La dificultad de la ruta.\n",
    "- El esfuerzo de la ruta.\n",
    "- La descripción de la ruta.\n",
    "- Tendrás que obtener un DataFrame similar al que observas a continuación"
   ]
  },
  {
   "cell_type": "code",
   "execution_count": null,
   "metadata": {},
   "outputs": [],
   "source": [
    "# antes de empezar importamos las librerías que vamos a usar. \n",
    "# Importar librerías para web scraping y manipulación de datos\n",
    "# -----------------------------------------------------------------------\n",
    "from bs4 import BeautifulSoup\n",
    "import requests\n",
    "\n",
    "# Importar librerías para manipulación y análisis de datos\n",
    "# -----------------------------------------------------------------------\n",
    "import pandas as pd\n",
    "\n",
    "pd.set_option('display.max_columns', None)\n",
    "pd.set_option('display.max_rows', None) # para poder visualizar todas las columnas de los DataFrames"
   ]
  },
  {
   "cell_type": "code",
   "execution_count": null,
   "metadata": {},
   "outputs": [],
   "source": [
    "#primero hago el request de la url\n",
    "url_montañas='https://turismoactiva.com/rutas-de-montana-sierra-de-gredos/'\n",
    "resp_montañas=requests.get(url_montañas)\n",
    "#A continuación hago la sopa para poder ir trasteando en los datos\n",
    "sopa_montañas=BeautifulSoup(resp_montañas.content,'html.parser')"
   ]
  },
  {
   "cell_type": "code",
   "execution_count": null,
   "metadata": {},
   "outputs": [],
   "source": [
    "#Creo una lista vacía donde acabaré metiendo las tuplas con la info de cada ruta\n",
    "lista_todos_datos=[]\n",
    "#Creo una iteración para sacar cada uno de los datos de la parte de la web que me interesa,\n",
    "# valores anteriores de 7 no me interesan y sólo me interesan los impares\n",
    "for i in range (7,40,2):\n",
    "    #Creo una lista de datos vacía donde meteré los datos limpios de la sopa\n",
    "    lista_datos=[]\n",
    "    #Creo una lista de datos sopa vacía, que será donde meta el texto de los datos que me interesa\n",
    "    lista_datos_sopa=[]\n",
    "    #Saco los datos de cada una de las rutas\n",
    "    datos=sopa_montañas.find_all('div', {'class':'elementor-widget-wrap elementor-element-populated'})[i]\n",
    "    #Elimino los \\xa0\n",
    "    datos=datos.text.replace('\\xa0',' ')\n",
    "    #Elimino los saltos de línea y creo una lista\n",
    "    datos=datos.split('\\n')\n",
    "    #Comienzo a iterar en la lista datos, donde se encuentran mis datos de cada ruta y varias posiciones de lista vacía\n",
    "    for dato in datos:\n",
    "        #Si la longitud de dato es mayor que 0, es decir, no está vacío se meterá en la lista_datos_sopa, sino pasa.\n",
    "        #Otra opción habría sido hacer datos.remove('')\n",
    "        if len(dato)>0:\n",
    "            lista_datos_sopa.append(dato)\n",
    "            \n",
    "        else:\n",
    "            pass\n",
    "    #Añadimos toda la lista de datos sopa en la lista de datos, para hacer una lista de listas\n",
    "    lista_datos.append(lista_datos_sopa)\n",
    "    #Creo una lista de datos final donde meter los datos \n",
    "    lista_datos_final=[]\n",
    "    #Itero en la lista de datos\n",
    "    for montaña in lista_datos:\n",
    "        #Hago un try except para evitar errores\n",
    "        try:\n",
    "            #Si el tipo de ruta no esta en la posición 2 de la lista montaña\n",
    "            if 'Tipo de ruta:' not in montaña[2]:\n",
    "                \n",
    "                for k in range(0,6):\n",
    "                    #Itero en la lista montaña\n",
    "                    info=montaña[k]\n",
    "                    #Intento partir el texto de mi lista en el ': ' y meto en datos final la posición 1\n",
    "                    try:\n",
    "                        lista_datos_final.append(info.split(': ')[1])\n",
    "                    #si no puedo hacer eso meto la info directamente\n",
    "                    except:\n",
    "                        lista_datos_final.append(info)\n",
    "                #Busco la descripción montaña en el último lugar\n",
    "                descripción=montaña[-1]\n",
    "                lista_datos_final.append(descripción)\n",
    "                #Inserto en la posición 2, la que sería de tipo de dato, el valor de Desconocido\n",
    "                lista_datos_final.insert(2,'Desconocido')\n",
    "                #Añado en la lista de todos los datos la tupla de lisa de datos final \n",
    "                lista_todos_datos.append(tuple(lista_datos_final))\n",
    "            else:\n",
    "                #repito el código pero si sí que hubiera tipo de ruta\n",
    "                for k in range(0,7):\n",
    "                    info=montaña[k]\n",
    "                    try:\n",
    "                        lista_datos_final.append(info.split(': ')[1])\n",
    "                        \n",
    "                    except:\n",
    "                        lista_datos_final.append(info)\n",
    "                descripción=montaña[-1]\n",
    "                lista_datos_final.append(descripción)\n",
    "                lista_todos_datos.append(tuple(lista_datos_final))\n",
    "        except:\n",
    "            pass\n",
    "             \n",
    "        \n",
    "\n",
    "    \n"
   ]
  },
  {
   "cell_type": "code",
   "execution_count": null,
   "metadata": {},
   "outputs": [],
   "source": [
    "#Creo una lista con los títulos de las columnas\n",
    "lista_columnas=['nombre', 'donde','tipo','duracion','km','dificultad','esfuerzo','descripcion']"
   ]
  },
  {
   "cell_type": "code",
   "execution_count": null,
   "metadata": {},
   "outputs": [],
   "source": [
    "#Creo el dataframe\n",
    "df_montañas=pd.DataFrame(lista_todos_datos)\n",
    "df_montañas.columns=lista_columnas\n",
    "df_montañas\n",
    "#Hay 2 que la parte de km, dificultad y esfuerzo están desordenados"
   ]
  },
  {
   "cell_type": "markdown",
   "metadata": {},
   "source": [
    "# Parte 2: Obtención de Datos Climatológicos con la API de AEMET\n",
    "\n",
    "Utiliza la API de AEMET para obtener información climatológica de la Sierra de Gredos. En concreto deberás usar el endpoint de \"predicciones-especificas\" la predicción de montaña para la sierra de gredos. Debe realizar las siguientes tareas:\n",
    "\n",
    "- Incluir la temperatura máxima en la Sierra de Gredos.\n",
    "- Incluir la temperatura mínima en la Sierra de Gredos.\n",
    "- Incluir la fecha en la que se recopilaron los datos.\n",
    "- Incluir la sierra de donde vienen los datos."
   ]
  }
 ],
 "metadata": {
  "kernelspec": {
   "display_name": "base",
   "language": "python",
   "name": "python3"
  },
  "language_info": {
   "codemirror_mode": {
    "name": "ipython",
    "version": 3
   },
   "file_extension": ".py",
   "mimetype": "text/x-python",
   "name": "python",
   "nbconvert_exporter": "python",
   "pygments_lexer": "ipython3",
   "version": "3.10.9"
  }
 },
 "nbformat": 4,
 "nbformat_minor": 2
}
